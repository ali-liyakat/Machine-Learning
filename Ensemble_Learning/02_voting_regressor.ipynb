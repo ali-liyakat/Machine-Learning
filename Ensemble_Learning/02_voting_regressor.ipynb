{
 "cells": [
  {
   "cell_type": "markdown",
   "id": "96bae51e-fb5d-483a-a182-84ac09bb78ab",
   "metadata": {},
   "source": [
    "### Data Loading"
   ]
  },
  {
   "cell_type": "code",
   "execution_count": 2,
   "id": "07b0ba94-f795-4ad1-8d8a-67978ee7153b",
   "metadata": {},
   "outputs": [
    {
     "data": {
      "text/html": [
       "<div>\n",
       "<style scoped>\n",
       "    .dataframe tbody tr th:only-of-type {\n",
       "        vertical-align: middle;\n",
       "    }\n",
       "\n",
       "    .dataframe tbody tr th {\n",
       "        vertical-align: top;\n",
       "    }\n",
       "\n",
       "    .dataframe thead th {\n",
       "        text-align: right;\n",
       "    }\n",
       "</style>\n",
       "<table border=\"1\" class=\"dataframe\">\n",
       "  <thead>\n",
       "    <tr style=\"text-align: right;\">\n",
       "      <th></th>\n",
       "      <th>area_sqr_ft</th>\n",
       "      <th>price_lakhs</th>\n",
       "      <th>bedrooms</th>\n",
       "    </tr>\n",
       "  </thead>\n",
       "  <tbody>\n",
       "    <tr>\n",
       "      <th>0</th>\n",
       "      <td>656.0</td>\n",
       "      <td>39.0</td>\n",
       "      <td>2</td>\n",
       "    </tr>\n",
       "    <tr>\n",
       "      <th>1</th>\n",
       "      <td>1260.0</td>\n",
       "      <td>83.2</td>\n",
       "      <td>2</td>\n",
       "    </tr>\n",
       "    <tr>\n",
       "      <th>2</th>\n",
       "      <td>1057.0</td>\n",
       "      <td>86.6</td>\n",
       "      <td>3</td>\n",
       "    </tr>\n",
       "    <tr>\n",
       "      <th>3</th>\n",
       "      <td>1259.0</td>\n",
       "      <td>59.0</td>\n",
       "      <td>2</td>\n",
       "    </tr>\n",
       "    <tr>\n",
       "      <th>4</th>\n",
       "      <td>1800.0</td>\n",
       "      <td>140.0</td>\n",
       "      <td>3</td>\n",
       "    </tr>\n",
       "  </tbody>\n",
       "</table>\n",
       "</div>"
      ],
      "text/plain": [
       "   area_sqr_ft  price_lakhs  bedrooms\n",
       "0        656.0         39.0         2\n",
       "1       1260.0         83.2         2\n",
       "2       1057.0         86.6         3\n",
       "3       1259.0         59.0         2\n",
       "4       1800.0        140.0         3"
      ]
     },
     "execution_count": 2,
     "metadata": {},
     "output_type": "execute_result"
    }
   ],
   "source": [
    "import pandas as pd\n",
    "\n",
    "df = pd.read_csv(\"regression_home_prices.csv\")\n",
    "df.head()"
   ]
  },
  {
   "cell_type": "code",
   "execution_count": 3,
   "id": "f8575638-159e-4b20-bbab-a10e4785200b",
   "metadata": {},
   "outputs": [],
   "source": [
    "from sklearn.model_selection import train_test_split\n",
    "\n",
    "X = df[[\"area_sqr_ft\",\"bedrooms\"]]\n",
    "y = df[\"price_lakhs\"]\n",
    "\n",
    "X_train, X_test, y_train, y_test = train_test_split(X, y, test_size=0.2, random_state=10)"
   ]
  },
  {
   "cell_type": "markdown",
   "id": "e22977c6-9804-4b02-8cf5-b04129767ab7",
   "metadata": {},
   "source": [
    "### Model Training using Linear regression"
   ]
  },
  {
   "cell_type": "code",
   "execution_count": 4,
   "id": "1b78b45c-4ea8-4d96-bdff-060b94ff39bc",
   "metadata": {},
   "outputs": [
    {
     "data": {
      "text/plain": [
       "0.8874887686858771"
      ]
     },
     "execution_count": 4,
     "metadata": {},
     "output_type": "execute_result"
    }
   ],
   "source": [
    "from sklearn.linear_model import LinearRegression\n",
    "\n",
    "model = LinearRegression()\n",
    "model.fit(X_train, y_train)\n",
    "model.score(X_test, y_test)"
   ]
  },
  {
   "cell_type": "code",
   "execution_count": 5,
   "id": "87054b5c-3ced-459c-9146-615bdd281d79",
   "metadata": {},
   "outputs": [
    {
     "data": {
      "text/plain": [
       "array([79.15940002, 70.96469522, 63.51496358])"
      ]
     },
     "execution_count": 5,
     "metadata": {},
     "output_type": "execute_result"
    }
   ],
   "source": [
    "model.predict(X_test[:3])"
   ]
  },
  {
   "cell_type": "code",
   "execution_count": 6,
   "id": "ef6807f0-eb8d-470c-9b82-892157966866",
   "metadata": {},
   "outputs": [
    {
     "data": {
      "text/plain": [
       "[68.0, 80.1, 69.0]"
      ]
     },
     "execution_count": 6,
     "metadata": {},
     "output_type": "execute_result"
    }
   ],
   "source": [
    "y_test[:3].to_list()"
   ]
  },
  {
   "cell_type": "markdown",
   "id": "71dbe480-602a-433c-96be-c685ff5c4e44",
   "metadata": {},
   "source": [
    "### Using Voting Regressor"
   ]
  },
  {
   "cell_type": "code",
   "execution_count": null,
   "id": "e55bd14c-1edc-4836-962f-7ade33f9a0a8",
   "metadata": {},
   "outputs": [],
   "source": []
  }
 ],
 "metadata": {
  "kernelspec": {
   "display_name": "Python 3 (ipykernel)",
   "language": "python",
   "name": "python3"
  },
  "language_info": {
   "codemirror_mode": {
    "name": "ipython",
    "version": 3
   },
   "file_extension": ".py",
   "mimetype": "text/x-python",
   "name": "python",
   "nbconvert_exporter": "python",
   "pygments_lexer": "ipython3",
   "version": "3.13.2"
  }
 },
 "nbformat": 4,
 "nbformat_minor": 5
}
