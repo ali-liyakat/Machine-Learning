{
 "cells": [
  {
   "cell_type": "markdown",
   "id": "2fbd10ba-b434-4ed8-9f39-f1ef4fd288e1",
   "metadata": {},
   "source": [
    "### Synthetic Data using ScikitLearn"
   ]
  },
  {
   "cell_type": "code",
   "execution_count": 33,
   "id": "3a6b3b0e-9169-47f8-96b1-2b6b536e2a8c",
   "metadata": {},
   "outputs": [],
   "source": [
    "import numpy as np\n",
    "import matplotlib.pyplot as plt\n",
    "from sklearn.datasets import make_classification\n",
    "from sklearn.linear_model import LogisticRegression\n",
    "from sklearn.model_selection import train_test_split\n",
    "from sklearn.metrics import classification_report"
   ]
  },
  {
   "cell_type": "code",
   "execution_count": 34,
   "id": "3c1e2468-3bef-4104-b39a-82d69249b5d7",
   "metadata": {},
   "outputs": [],
   "source": [
    "X, y = make_classification(\n",
    "    n_features=10,\n",
    "    n_samples=1000,\n",
    "    n_informative=4,\n",
    "    n_redundant=6,\n",
    "    n_repeated=0,\n",
    "    n_classes=2,\n",
    "    random_state=42\n",
    ")\n",
    "\n",
    "X_train, X_test, y_train, y_test = train_test_split(X, y, test_size=0.25, random_state=42)"
   ]
  },
  {
   "cell_type": "markdown",
   "id": "f138251a-4d41-4675-908b-19393b1496ff",
   "metadata": {},
   "source": [
    "### Model Training : Logistic Regression"
   ]
  },
  {
   "cell_type": "code",
   "execution_count": 35,
   "id": "4fa08a9d-41b3-4030-97ab-4272a5ec5539",
   "metadata": {},
   "outputs": [
    {
     "name": "stdout",
     "output_type": "stream",
     "text": [
      "              precision    recall  f1-score   support\n",
      "\n",
      "           0       0.66      0.69      0.67       122\n",
      "           1       0.69      0.66      0.68       128\n",
      "\n",
      "    accuracy                           0.68       250\n",
      "   macro avg       0.68      0.68      0.68       250\n",
      "weighted avg       0.68      0.68      0.68       250\n",
      "\n"
     ]
    }
   ],
   "source": [
    "model = LogisticRegression()\n",
    "model.fit(X_train, y_train)\n",
    "\n",
    "y_pred = model.predict(X_test)\n",
    "report = classification_report(y_test, y_pred)\n",
    "print(report)"
   ]
  },
  {
   "cell_type": "markdown",
   "id": "9923a044-1efa-4410-9b73-63292f150b01",
   "metadata": {},
   "source": [
    "### Calculate Predict Probabilities"
   ]
  },
  {
   "cell_type": "code",
   "execution_count": 36,
   "id": "d9d9889c-8d26-4485-b690-870df489c18e",
   "metadata": {},
   "outputs": [
    {
     "name": "stdout",
     "output_type": "stream",
     "text": [
      "              precision    recall  f1-score   support\n",
      "\n",
      "           0       0.73      0.30      0.42       122\n",
      "           1       0.57      0.90      0.70       128\n",
      "\n",
      "    accuracy                           0.60       250\n",
      "   macro avg       0.65      0.60      0.56       250\n",
      "weighted avg       0.65      0.60      0.56       250\n",
      "\n"
     ]
    }
   ],
   "source": [
    "probabilities = model.predict_proba(X_test)[:,1]\n",
    "y_pred = (probabilities > 0.26349585272229664).astype(int)\n",
    "\n",
    "report = classification_report(y_test, y_pred)\n",
    "print(report)"
   ]
  },
  {
   "cell_type": "markdown",
   "id": "9b7066a3-47a2-46ee-8359-31f1d186aed0",
   "metadata": {},
   "source": [
    "### FPR, TPR, Thresholds"
   ]
  },
  {
   "cell_type": "code",
   "execution_count": 37,
   "id": "449d3bb9-4fb1-4625-9cc4-5c31c0d56006",
   "metadata": {},
   "outputs": [
    {
     "data": {
      "text/plain": [
       "(array([0.        , 0.        , 0.        , 0.00819672, 0.00819672]),\n",
       " array([0.       , 0.0078125, 0.265625 , 0.265625 , 0.2890625]),\n",
       " array([       inf, 0.97928246, 0.80890214, 0.80840719, 0.80207033]))"
      ]
     },
     "execution_count": 37,
     "metadata": {},
     "output_type": "execute_result"
    }
   ],
   "source": [
    "from sklearn.metrics import roc_curve\n",
    "\n",
    "fpr, tpr, thresholds = roc_curve(y_test, probabilities)\n",
    "fpr[:5], tpr[:5], thresholds[:5]"
   ]
  },
  {
   "cell_type": "code",
   "execution_count": 38,
   "id": "ed02215a-ae4a-4052-bfe5-fb1324f4b6ef",
   "metadata": {},
   "outputs": [
    {
     "data": {
      "text/plain": [
       "array([0.       , 0.0078125, 0.265625 , 0.265625 , 0.2890625, 0.2890625,\n",
       "       0.296875 , 0.296875 , 0.34375  , 0.34375  , 0.3515625, 0.3515625,\n",
       "       0.375    , 0.375    , 0.3984375, 0.3984375, 0.4296875, 0.4296875,\n",
       "       0.4375   , 0.4375   , 0.4609375, 0.4609375, 0.46875  , 0.46875  ,\n",
       "       0.4765625, 0.4765625, 0.484375 , 0.484375 , 0.4921875, 0.4921875,\n",
       "       0.5078125, 0.5078125, 0.515625 , 0.515625 , 0.5390625, 0.5390625,\n",
       "       0.5546875, 0.5546875, 0.5859375, 0.5859375, 0.625    , 0.625    ,\n",
       "       0.640625 , 0.640625 , 0.6484375, 0.6484375, 0.65625  , 0.65625  ,\n",
       "       0.71875  , 0.71875  , 0.75     , 0.75     , 0.7578125, 0.7578125,\n",
       "       0.765625 , 0.765625 , 0.7734375, 0.7734375, 0.7890625, 0.7890625,\n",
       "       0.796875 , 0.796875 , 0.84375  , 0.84375  , 0.8515625, 0.8515625,\n",
       "       0.859375 , 0.859375 , 0.8671875, 0.8671875, 0.875    , 0.875    ,\n",
       "       0.8828125, 0.8828125, 0.890625 , 0.890625 , 0.90625  , 0.90625  ,\n",
       "       0.9140625, 0.9140625, 0.921875 , 0.921875 , 0.9296875, 0.9296875,\n",
       "       0.9453125, 0.9453125, 0.9609375, 0.9609375, 0.96875  , 0.96875  ,\n",
       "       0.984375 , 0.984375 , 0.9921875, 0.9921875, 1.       , 1.       ])"
      ]
     },
     "execution_count": 38,
     "metadata": {},
     "output_type": "execute_result"
    }
   ],
   "source": [
    "tpr"
   ]
  },
  {
   "cell_type": "markdown",
   "id": "d3830676-815c-49a2-9798-78added14d75",
   "metadata": {},
   "source": [
    "### Find Index"
   ]
  },
  {
   "cell_type": "code",
   "execution_count": 39,
   "id": "edb0dc8a-b49e-4940-9e3c-16a3f8733413",
   "metadata": {},
   "outputs": [
    {
     "name": "stdout",
     "output_type": "stream",
     "text": [
      "76\n"
     ]
    }
   ],
   "source": [
    "desired_recall = 0.9\n",
    "\n",
    "closest_index = np.argmin(abs(tpr - desired_recall))\n",
    "print(closest_index)"
   ]
  },
  {
   "cell_type": "code",
   "execution_count": 40,
   "id": "66360d5f-8d4f-4d80-bef8-179e5f188a28",
   "metadata": {},
   "outputs": [
    {
     "name": "stdout",
     "output_type": "stream",
     "text": [
      "0.26349585272229664 0.7049180327868853\n"
     ]
    }
   ],
   "source": [
    "print(thresholds[closest_index], fpr[closest_index])"
   ]
  },
  {
   "cell_type": "markdown",
   "id": "9fc630d2-4f45-416e-8ca3-5dcf94569d06",
   "metadata": {},
   "source": [
    "### Area Under Curve(AUC)"
   ]
  },
  {
   "cell_type": "code",
   "execution_count": 41,
   "id": "76ff38ef-543a-44bb-a054-0c3ca10f92f4",
   "metadata": {},
   "outputs": [
    {
     "name": "stdout",
     "output_type": "stream",
     "text": [
      "0.764856557377049\n"
     ]
    }
   ],
   "source": [
    "from sklearn.metrics import auc\n",
    "\n",
    "area = auc(fpr, tpr)\n",
    "print(area)"
   ]
  },
  {
   "cell_type": "markdown",
   "id": "71134bbd-6f64-4a80-817f-d6848e99c673",
   "metadata": {},
   "source": [
    "### Plot ROC-AUC"
   ]
  },
  {
   "cell_type": "code",
   "execution_count": 42,
   "id": "7ddbc9bb-a8b9-4c1a-be6c-8e82fef44e65",
   "metadata": {},
   "outputs": [
    {
     "data": {
      "image/png": "[encoded data removed]",
      "text/plain": [
       "<Figure size 640x480 with 1 Axes>"
      ]
     },
     "metadata": {},
     "output_type": "display_data"
    }
   ],
   "source": [
    "plt.figure()\n",
    "plt.plot(fpr, tpr, color='darkorange', lw=2, label='ROC curve (area = %0.2f)' % area)\n",
    "plt.plot([0, 1], [0, 1], color='navy', lw=2, linestyle='--')\n",
    "plt.xlim([0.0, 1.0])\n",
    "plt.ylim([0.0, 1.05])\n",
    "plt.xlabel('False Positive Rate')\n",
    "plt.ylabel('True Positive Rate')\n",
    "plt.title('Receiver Operating Characteristic')\n",
    "plt.legend(loc='lower right')\n",
    "plt.show()"
   ]
  },
  {
   "cell_type": "markdown",
   "id": "463ceefb-0a69-4ee6-94a9-a37f1af74e53",
   "metadata": {},
   "source": [
    "### Model Training: XGBoost Classifier"
   ]
  },
  {
   "cell_type": "code",
   "execution_count": 43,
   "id": "ff5f327c-0ea1-469e-ae4f-2f18d3917818",
   "metadata": {},
   "outputs": [
    {
     "name": "stdout",
     "output_type": "stream",
     "text": [
      "              precision    recall  f1-score   support\n",
      "\n",
      "           0       0.89      0.93      0.91       122\n",
      "           1       0.93      0.89      0.91       128\n",
      "\n",
      "    accuracy                           0.91       250\n",
      "   macro avg       0.91      0.91      0.91       250\n",
      "weighted avg       0.91      0.91      0.91       250\n",
      "\n"
     ]
    }
   ],
   "source": [
    "from xgboost import XGBClassifier\n",
    "\n",
    "model = XGBClassifier()\n",
    "model.fit(X_train, y_train)\n",
    "\n",
    "y_pred = model.predict(X_test)\n",
    "report = classification_report(y_test, y_pred)\n",
    "print(report)"
   ]
  },
  {
   "cell_type": "markdown",
   "id": "5e509c65-c73f-4e82-9e45-463dee597478",
   "metadata": {},
   "source": [
    "### Predict Probabilities and Area Under Curve (AUC)"
   ]
  },
  {
   "cell_type": "code",
   "execution_count": 44,
   "id": "eb3d05e8-8895-491e-bf95-13c89c7a1a5e",
   "metadata": {},
   "outputs": [
    {
     "name": "stdout",
     "output_type": "stream",
     "text": [
      "0.946016905737705\n"
     ]
    }
   ],
   "source": [
    "y_scores = model.predict_proba(X_test)[:,1]\n",
    "fprxgb, tprxgb, thresholdsxgb = roc_curve(y_test, y_scores)\n",
    "area2 = auc(fprxgb, tprxgb)\n",
    "print(area2)"
   ]
  },
  {
   "cell_type": "markdown",
   "id": "74c6419d-b51e-4976-9f6e-327069d1e0a5",
   "metadata": {},
   "source": [
    "### Plot ROC-AUC"
   ]
  },
  {
   "cell_type": "code",
   "execution_count": 45,
   "id": "10f82fb1-d011-4766-94de-e913aacbdc9f",
   "metadata": {},
   "outputs": [
    {
     "data": {
      "image/png": "[encoded data removed]",
      "text/plain": [
       "<Figure size 640x480 with 1 Axes>"
      ]
     },
     "metadata": {},
     "output_type": "display_data"
    }
   ],
   "source": [
    "plt.figure()\n",
    "plt.plot(fpr, tpr, color='darkorange', lw=2, label='ROC curve (area = %0.2f)' % area)\n",
    "plt.plot(fprxgb, tprxgb, color='green', lw=2, label='ROC curve (area = %0.2f)' % area2)\n",
    "plt.plot([0, 1], [0, 1], color='navy', lw=2, linestyle='--')\n",
    "plt.xlim([0.0, 1.0])\n",
    "plt.ylim([0.0, 1.05])\n",
    "plt.xlabel('False Positive Rate')\n",
    "plt.ylabel('True Positive Rate')\n",
    "plt.title('Receiver Operating Characteristic')\n",
    "plt.legend(loc='lower right')\n",
    "plt.show()"
   ]
  },
  {
   "cell_type": "markdown",
   "id": "9abf920a-204c-46d0-8413-ada9bb578359",
   "metadata": {},
   "source": [
    "### Find Index"
   ]
  },
  {
   "cell_type": "code",
   "execution_count": 46,
   "id": "928178af-c432-483c-a4c7-1aa7f20e2088",
   "metadata": {},
   "outputs": [
    {
     "name": "stdout",
     "output_type": "stream",
     "text": [
      "24\n"
     ]
    }
   ],
   "source": [
    "desired_recall = 0.92\n",
    "\n",
    "closest_index = np.argmin(abs(tprxgb - desired_recall))\n",
    "print(closest_index)"
   ]
  },
  {
   "cell_type": "code",
   "execution_count": 47,
   "id": "74787100-c863-4580-a326-a10f679ef585",
   "metadata": {},
   "outputs": [
    {
     "name": "stdout",
     "output_type": "stream",
     "text": [
      "0.30599597 0.10655737704918032\n"
     ]
    }
   ],
   "source": [
    "print(thresholdsxgb[closest_index], fprxgb[closest_index])"
   ]
  },
  {
   "cell_type": "code",
   "execution_count": null,
   "id": "d2ca88e7-05cb-4fcd-abf1-094623037888",
   "metadata": {},
   "outputs": [],
   "source": []
  },
  {
   "cell_type": "code",
   "execution_count": null,
   "id": "4521f170-53af-473c-aaa0-8e360971efb2",
   "metadata": {},
   "outputs": [],
   "source": []
  }
 ],
 "metadata": {
  "kernelspec": {
   "display_name": "Python 3 (ipykernel)",
   "language": "python",
   "name": "python3"
  },
  "language_info": {
   "codemirror_mode": {
    "name": "ipython",
    "version": 3
   },
   "file_extension": ".py",
   "mimetype": "text/x-python",
   "name": "python",
   "nbconvert_exporter": "python",
   "pygments_lexer": "ipython3",
   "version": "3.13.2"
  }
 },
 "nbformat": 4,
 "nbformat_minor": 5
}
