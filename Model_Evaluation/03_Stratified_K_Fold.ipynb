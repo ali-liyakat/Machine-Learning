{
 "cells": [
  {
   "cell_type": "markdown",
   "id": "1502b09b-225a-495c-966e-d2b6f6c0a72f",
   "metadata": {},
   "source": [
    "### Synthetic Dataset"
   ]
  },
  {
   "cell_type": "code",
   "execution_count": 2,
   "id": "e2f243ca-50eb-4636-9183-a8d4f9280392",
   "metadata": {},
   "outputs": [],
   "source": [
    "# Import libraries\n",
    "import numpy as np\n",
    "import matplotlib.pyplot as plt\n",
    "from sklearn.datasets import make_classification\n",
    "from sklearn.linear_model import LogisticRegression\n",
    "from sklearn.model_selection import train_test_split\n",
    "from sklearn.metrics import classification_report\n",
    "\n",
    "# Create synthetic dataset\n",
    "X, y = make_classification(\n",
    "    n_features=10,\n",
    "    n_samples=1000,\n",
    "    n_informative=8,\n",
    "    n_redundant=2,\n",
    "    n_repeated=0,\n",
    "    n_classes=2,\n",
    "    weights=[0.9, 0.1],\n",
    "    random_state=42\n",
    ")\n",
    "\n",
    "# Split data into training and test sets\n",
    "X_train, X_test, y_train, y_test = train_test_split(X, y, test_size=0.3, random_state=42)"
   ]
  },
  {
   "cell_type": "code",
   "execution_count": 7,
   "id": "c6719361-ce9e-460d-85d0-6a0fb9026e47",
   "metadata": {},
   "outputs": [
    {
     "data": {
      "text/plain": [
       "Counter({np.int64(0): 897, np.int64(1): 103})"
      ]
     },
     "execution_count": 7,
     "metadata": {},
     "output_type": "execute_result"
    }
   ],
   "source": [
    "from collections import Counter\n",
    "Counter(y)"
   ]
  },
  {
   "cell_type": "markdown",
   "id": "fe2070c0-eaed-467f-a40c-e56ab2d62700",
   "metadata": {},
   "source": [
    "## K Fold"
   ]
  },
  {
   "cell_type": "code",
   "execution_count": 8,
   "id": "2bfac083-b3ef-4365-afcc-0c95642cba4c",
   "metadata": {},
   "outputs": [
    {
     "name": "stdout",
     "output_type": "stream",
     "text": [
      "Counter({np.int64(0): 177, np.int64(1): 23})\n",
      "Counter({np.int64(0): 179, np.int64(1): 21})\n",
      "Counter({np.int64(0): 183, np.int64(1): 17})\n",
      "Counter({np.int64(0): 181, np.int64(1): 19})\n",
      "Counter({np.int64(0): 177, np.int64(1): 23})\n"
     ]
    }
   ],
   "source": [
    "from sklearn.model_selection import  KFold\n",
    "\n",
    "kf = KFold(n_splits=5, shuffle=True, random_state=42)\n",
    "for train_index, test_index in kf.split(X, y):\n",
    "    X_train, y_train = X[train_index], y[train_index]\n",
    "    y_train, y_test = y[train_index], y[test_index]\n",
    "    print(Counter(y_test))"
   ]
  },
  {
   "cell_type": "markdown",
   "id": "3acf1107-5ccd-4c5c-bfe8-51f2afccd924",
   "metadata": {},
   "source": [
    "### Stratified K Fold"
   ]
  },
  {
   "cell_type": "code",
   "execution_count": 9,
   "id": "7dda2e6a-1fea-436f-a739-5f2d4c1788e8",
   "metadata": {},
   "outputs": [
    {
     "name": "stdout",
     "output_type": "stream",
     "text": [
      "Counter({np.int64(0): 180, np.int64(1): 20})\n",
      "Counter({np.int64(0): 180, np.int64(1): 20})\n",
      "Counter({np.int64(0): 179, np.int64(1): 21})\n",
      "Counter({np.int64(0): 179, np.int64(1): 21})\n",
      "Counter({np.int64(0): 179, np.int64(1): 21})\n"
     ]
    }
   ],
   "source": [
    "from sklearn.model_selection import  StratifiedKFold\n",
    "\n",
    "stkf = StratifiedKFold(n_splits=5, shuffle=True, random_state=42)\n",
    "for train_index, test_index in stkf.split(X, y):\n",
    "    X_train, y_train = X[train_index], y[train_index]\n",
    "    y_train, y_test = y[train_index], y[test_index]\n",
    "    print(Counter(y_test))"
   ]
  },
  {
   "cell_type": "markdown",
   "id": "0511f31c-4bfa-48ad-aace-4dd2e9f68f4b",
   "metadata": {},
   "source": [
    "### Logistic Regression "
   ]
  },
  {
   "cell_type": "code",
   "execution_count": 10,
   "id": "b816bd93-1f07-4b8a-9739-9822fbf20aa1",
   "metadata": {},
   "outputs": [
    {
     "name": "stdout",
     "output_type": "stream",
     "text": [
      "0.9019999999999999\n"
     ]
    }
   ],
   "source": [
    "from sklearn.model_selection import cross_val_score\n",
    "\n",
    "scores_logistic = cross_val_score(LogisticRegression(), X, y, cv=stkf)\n",
    "print(np.average(scores_logistic))"
   ]
  },
  {
   "cell_type": "markdown",
   "id": "00929292-730b-46b2-be09-7fa5474c0c88",
   "metadata": {},
   "source": [
    "### Decision Tree Classifier "
   ]
  },
  {
   "cell_type": "code",
   "execution_count": 11,
   "id": "1b95527d-82d7-4c1f-b2d0-a9743be85f4a",
   "metadata": {},
   "outputs": [
    {
     "name": "stdout",
     "output_type": "stream",
     "text": [
      "0.8939999999999999\n"
     ]
    }
   ],
   "source": [
    "from sklearn.tree import DecisionTreeClassifier\n",
    "\n",
    "scores_dt = cross_val_score(DecisionTreeClassifier(), X, y, cv=stkf)\n",
    "print(np.average(scores_dt))"
   ]
  },
  {
   "cell_type": "markdown",
   "id": "469f90bf-34b5-4f7a-b872-edd88e901849",
   "metadata": {},
   "source": [
    "### Random Forest Classifier"
   ]
  },
  {
   "cell_type": "code",
   "execution_count": 12,
   "id": "47451e43-a852-47fe-b9f1-38fd51d1390a",
   "metadata": {},
   "outputs": [
    {
     "name": "stdout",
     "output_type": "stream",
     "text": [
      "0.917\n"
     ]
    }
   ],
   "source": [
    "from sklearn.ensemble import RandomForestClassifier\n",
    "\n",
    "scores_rf = cross_val_score(RandomForestClassifier(), X, y, cv=stkf, scoring=\"accuracy\")\n",
    "print(np.average(scores_rf))"
   ]
  },
  {
   "cell_type": "code",
   "execution_count": null,
   "id": "26cd379a-f0e2-4185-8232-91820a5b169f",
   "metadata": {},
   "outputs": [],
   "source": []
  }
 ],
 "metadata": {
  "kernelspec": {
   "display_name": "Python 3 (ipykernel)",
   "language": "python",
   "name": "python3"
  },
  "language_info": {
   "codemirror_mode": {
    "name": "ipython",
    "version": 3
   },
   "file_extension": ".py",
   "mimetype": "text/x-python",
   "name": "python",
   "nbconvert_exporter": "python",
   "pygments_lexer": "ipython3",
   "version": "3.13.2"
  }
 },
 "nbformat": 4,
 "nbformat_minor": 5
}
