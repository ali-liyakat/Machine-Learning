{
 "cells": [
  {
   "cell_type": "markdown",
   "id": "cd7d49e7-e940-4e51-b862-c13211a804ac",
   "metadata": {},
   "source": [
    "### Synthetic Dataset"
   ]
  },
  {
   "cell_type": "code",
   "execution_count": 3,
   "id": "20126b0e-15de-4aa8-9af9-5d8b93e1127a",
   "metadata": {},
   "outputs": [],
   "source": [
    "# Import libraries\n",
    "import numpy as np\n",
    "import matplotlib.pyplot as plt\n",
    "from sklearn.datasets import make_classification\n",
    "from sklearn.linear_model import LogisticRegression\n",
    "from sklearn.model_selection import train_test_split\n",
    "from sklearn.metrics import classification_report\n",
    "\n",
    "# Create synthetic dataset\n",
    "X, y = make_classification(\n",
    "    n_features=10,\n",
    "    n_samples=1000,\n",
    "    n_informative=8,\n",
    "    n_redundant=2,\n",
    "    n_repeated=0,\n",
    "    n_classes=2,\n",
    "    random_state=42\n",
    ")\n",
    "\n",
    "# Split data into training and test sets\n",
    "X_train, X_test, y_train, y_test = train_test_split(X, y, test_size=0.25, random_state=42)"
   ]
  },
  {
   "cell_type": "markdown",
   "id": "f5487330-6994-45c5-9ef1-d9bca8034d4d",
   "metadata": {},
   "source": [
    "### Model Training: Logistic Regression without  K Fold"
   ]
  },
  {
   "cell_type": "code",
   "execution_count": 4,
   "id": "6d979e19-5753-42b5-b6fa-1cd45acc5b56",
   "metadata": {},
   "outputs": [
    {
     "name": "stdout",
     "output_type": "stream",
     "text": [
      "              precision    recall  f1-score   support\n",
      "\n",
      "           0       0.73      0.65      0.69       130\n",
      "           1       0.66      0.74      0.70       120\n",
      "\n",
      "    accuracy                           0.70       250\n",
      "   macro avg       0.70      0.70      0.70       250\n",
      "weighted avg       0.70      0.70      0.70       250\n",
      "\n"
     ]
    }
   ],
   "source": [
    "\n",
    "# Train logistic regression classifier\n",
    "model = LogisticRegression()\n",
    "model.fit(X_train, y_train)\n",
    "\n",
    "# Evaluate model\n",
    "y_pred = model.predict(X_test)\n",
    "report = classification_report(y_test, y_pred)\n",
    "print(report)"
   ]
  },
  {
   "cell_type": "markdown",
   "id": "4477d29e-8c3a-4eef-ba15-18b3868e0dbe",
   "metadata": {},
   "source": [
    "### Doing K Folds to data"
   ]
  },
  {
   "cell_type": "code",
   "execution_count": 7,
   "id": "32743a2c-a942-4c25-99cc-7a3ec54dd9bd",
   "metadata": {},
   "outputs": [
    {
     "name": "stdout",
     "output_type": "stream",
     "text": [
      "0.675\n",
      "0.715\n",
      "0.72\n",
      "0.645\n",
      "0.72\n"
     ]
    }
   ],
   "source": [
    "from sklearn.model_selection import KFold\n",
    "\n",
    "kf = KFold(n_splits=5, shuffle=True, random_state=42)\n",
    "\n",
    "scores = []\n",
    "model = LogisticRegression()\n",
    "for train_index, test_index in kf.split(X, y):\n",
    "    X_train, X_test = X[train_index], X[test_index]\n",
    "    y_train, y_test = y[train_index], y[test_index]\n",
    "    model.fit(X_train, y_train)\n",
    "    print(model.score(X_test, y_test))"
   ]
  },
  {
   "cell_type": "markdown",
   "id": "2bb6b9e2-1563-460c-ad35-73c2b2ea1a04",
   "metadata": {},
   "source": [
    "### Model Training: Logistic Regression with K Fold (5)"
   ]
  },
  {
   "cell_type": "code",
   "execution_count": 10,
   "id": "e9352c0f-919b-4c10-902f-231c25c11146",
   "metadata": {},
   "outputs": [
    {
     "name": "stdout",
     "output_type": "stream",
     "text": [
      "0.6950000000000001\n"
     ]
    }
   ],
   "source": [
    "from sklearn.model_selection import cross_val_score\n",
    "\n",
    "scores_logistic = cross_val_score(LogisticRegression(), X, y, cv=kf)\n",
    "print(np.average(scores_logistic))"
   ]
  },
  {
   "cell_type": "markdown",
   "id": "2367ab04-391a-4a7b-88ea-90128946a143",
   "metadata": {},
   "source": [
    "### Model Training: Decision Tree with K Fold (5)"
   ]
  },
  {
   "cell_type": "code",
   "execution_count": 11,
   "id": "4b9c7572-856d-4dce-940b-b1f3e64c865e",
   "metadata": {},
   "outputs": [
    {
     "name": "stdout",
     "output_type": "stream",
     "text": [
      "0.7929999999999999\n"
     ]
    }
   ],
   "source": [
    "from sklearn.tree import DecisionTreeClassifier\n",
    "\n",
    "scores_dt = cross_val_score(DecisionTreeClassifier(), X, y, cv=kf)\n",
    "print(np.average(scores_dt))"
   ]
  },
  {
   "cell_type": "markdown",
   "id": "17c3aedc-8b41-4138-afcd-7441ff96f375",
   "metadata": {},
   "source": [
    "### Model Training: Random Forest with K Fold (5)"
   ]
  },
  {
   "cell_type": "code",
   "execution_count": 13,
   "id": "add98058-09e0-49c1-a60a-8b75caab34f7",
   "metadata": {},
   "outputs": [
    {
     "name": "stdout",
     "output_type": "stream",
     "text": [
      "0.889\n"
     ]
    }
   ],
   "source": [
    "from sklearn.ensemble import RandomForestClassifier\n",
    "\n",
    "scores_rf = cross_val_score(RandomForestClassifier(), X, y, cv=kf, scoring=\"accuracy\")\n",
    "print(np.average(scores_rf))"
   ]
  },
  {
   "cell_type": "code",
   "execution_count": 17,
   "id": "425fdbd4-52b3-4d30-aa6e-4bbb33452faa",
   "metadata": {},
   "outputs": [
    {
     "data": {
      "text/plain": [
       "{'fit_time': array([0.04384971, 0.01435041, 0.01470208, 0.01030588, 0.00983787]),\n",
       " 'score_time': array([0.03448176, 0.00303459, 0.00310755, 0.00286889, 0.00312495]),\n",
       " 'test_accuracy': array([0.735, 0.805, 0.795, 0.83 , 0.825]),\n",
       " 'test_roc_auc': array([0.7331393 , 0.80362145, 0.79641857, 0.83173077, 0.82707748])}"
      ]
     },
     "execution_count": 17,
     "metadata": {},
     "output_type": "execute_result"
    }
   ],
   "source": [
    "from sklearn .model_selection import cross_validate\n",
    "\n",
    "cross_validate(DecisionTreeClassifier(), X, y, cv=kf, scoring=[\"accuracy\", 'roc_auc'])"
   ]
  },
  {
   "cell_type": "code",
   "execution_count": null,
   "id": "9b0aed08-25a5-46b0-a7bf-74c99f8dd810",
   "metadata": {},
   "outputs": [],
   "source": []
  }
 ],
 "metadata": {
  "kernelspec": {
   "display_name": "Python 3 (ipykernel)",
   "language": "python",
   "name": "python3"
  },
  "language_info": {
   "codemirror_mode": {
    "name": "ipython",
    "version": 3
   },
   "file_extension": ".py",
   "mimetype": "text/x-python",
   "name": "python",
   "nbconvert_exporter": "python",
   "pygments_lexer": "ipython3",
   "version": "3.13.2"
  }
 },
 "nbformat": 4,
 "nbformat_minor": 5
}
